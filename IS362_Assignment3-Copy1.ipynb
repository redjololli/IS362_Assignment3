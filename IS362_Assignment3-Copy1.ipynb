{
 "cells": [
  {
   "cell_type": "markdown",
   "metadata": {},
   "source": [
    "# IS 362 Week 3 Assignment"
   ]
  },
  {
   "cell_type": "markdown",
   "metadata": {},
   "source": [
    "- Suppose you have ridden a bicycle from New York City to Key West, Florida.  Your bicycle odometer shows the total miles, which you have dutifully logged at the end of each day with paper and pencil.  Your first two entries might be 55 and 120, indicating that you rode your bike 55 miles on day 1 and 65 miles on day 2.\n",
    " - Create a pandas Series object that holds the cumulative miles at the end of each day."
   ]
  },
  {
   "cell_type": "markdown",
   "metadata": {},
   "source": [
    "## Step 1.\n",
    "I used Google Maps to determine the total hours and distance in (miles) between my location in NYC and Key West, Florida. First, I have to determine how many days will take to get to key west, if the biker is riding approximately 65 miles daily and distance in (miles) between my current location and Key West (1449 miles)."
   ]
  },
  {
   "cell_type": "code",
   "execution_count": 5,
   "metadata": {},
   "outputs": [
    {
     "name": "stdout",
     "output_type": "stream",
     "text": [
      "22.29230769230769\n"
     ]
    }
   ],
   "source": [
    "days = 1449/65\n",
    "print (days)\n"
   ]
  },
  {
   "cell_type": "markdown",
   "metadata": {},
   "source": [
    "- It will take approximately 22 days to reach Key West. (Rounded up to nearest whole number)  "
   ]
  },
  {
   "cell_type": "code",
   "execution_count": 8,
   "metadata": {},
   "outputs": [
    {
     "name": "stdout",
     "output_type": "stream",
     "text": [
      "2020-08-01      55\n",
      "2020-08-02     120\n",
      "2020-08-03     185\n",
      "2020-08-04     250\n",
      "2020-08-05     330\n",
      "2020-08-06     390\n",
      "2020-08-07     410\n",
      "2020-08-08     470\n",
      "2020-08-09     530\n",
      "2020-08-10     600\n",
      "2020-08-11     665\n",
      "2020-08-12     720\n",
      "2020-08-13     790\n",
      "2020-08-14     850\n",
      "2020-08-15     910\n",
      "2020-08-16     970\n",
      "2020-08-17    1060\n",
      "2020-08-18    1130\n",
      "2020-08-19    1190\n",
      "2020-08-20    1255\n",
      "2020-08-21    1310\n",
      "2020-08-22    1370\n",
      "Freq: D, dtype: int64\n"
     ]
    }
   ],
   "source": [
    "import pandas as pd\n",
    "import datetime\n",
    "\n",
    "travel = pd.date_range('2020-08-01', '2020-08-22')\n",
    "odometer = pd.Series([55, 120, 185, 250, 330, 390, 410, 470, 530, 600, 665, 720, 790, 850, 910, 970, 1060, 1130, 1190, 1255, 1310, 1370], index = travel)\n",
    "\n",
    "print (odometer)\n",
    "\n"
   ]
  },
  {
   "cell_type": "markdown",
   "metadata": {},
   "source": [
    "## Step 3\n",
    "\n",
    "- Calculating miles traveled per day"
   ]
  },
  {
   "cell_type": "code",
   "execution_count": 9,
   "metadata": {},
   "outputs": [
    {
     "name": "stdout",
     "output_type": "stream",
     "text": [
      "2020-08-01 00:00:00: 55Miles\n",
      "2020-08-02 00:00:00: 65Miles\n",
      "2020-08-03 00:00:00: 65Miles\n",
      "2020-08-04 00:00:00: 65Miles\n",
      "2020-08-05 00:00:00: 80Miles\n",
      "2020-08-06 00:00:00: 60Miles\n",
      "2020-08-07 00:00:00: 20Miles\n",
      "2020-08-08 00:00:00: 60Miles\n",
      "2020-08-09 00:00:00: 60Miles\n",
      "2020-08-10 00:00:00: 70Miles\n",
      "2020-08-11 00:00:00: 65Miles\n",
      "2020-08-12 00:00:00: 55Miles\n",
      "2020-08-13 00:00:00: 70Miles\n",
      "2020-08-14 00:00:00: 60Miles\n",
      "2020-08-15 00:00:00: 60Miles\n",
      "2020-08-16 00:00:00: 60Miles\n",
      "2020-08-17 00:00:00: 90Miles\n",
      "2020-08-18 00:00:00: 70Miles\n",
      "2020-08-19 00:00:00: 60Miles\n",
      "2020-08-20 00:00:00: 65Miles\n",
      "2020-08-21 00:00:00: 55Miles\n",
      "2020-08-22 00:00:00: 60Miles\n"
     ]
    }
   ],
   "source": [
    "daily_miles = {}\n",
    "start_odo = 0\n",
    "\n",
    "for day, odomile in odometer.items():\n",
    "    daymiles = odomile - start_odo\n",
    "    daily_miles[day] = daymiles\n",
    "    print(str(day) + ': ' + str(daymiles) + 'Miles')\n",
    "    start_odo = odomile"
   ]
  },
  {
   "cell_type": "markdown",
   "metadata": {},
   "source": [
    "## Step 4\n",
    "- Formating results from Step 3 to show dates and miles."
   ]
  },
  {
   "cell_type": "code",
   "execution_count": 11,
   "metadata": {},
   "outputs": [
    {
     "name": "stdout",
     "output_type": "stream",
     "text": [
      "2020-08-01    55\n",
      "2020-08-02    65\n",
      "2020-08-03    65\n",
      "2020-08-04    65\n",
      "2020-08-05    80\n",
      "2020-08-06    60\n",
      "2020-08-07    20\n",
      "2020-08-08    60\n",
      "2020-08-09    60\n",
      "2020-08-10    70\n",
      "2020-08-11    65\n",
      "2020-08-12    55\n",
      "2020-08-13    70\n",
      "2020-08-14    60\n",
      "2020-08-15    60\n",
      "2020-08-16    60\n",
      "2020-08-17    90\n",
      "2020-08-18    70\n",
      "2020-08-19    60\n",
      "2020-08-20    65\n",
      "2020-08-21    55\n",
      "2020-08-22    60\n",
      "dtype: int64\n"
     ]
    }
   ],
   "source": [
    "daily_miles = pd.Series(daily_miles)\n",
    "print(daily_miles)"
   ]
  },
  {
   "cell_type": "code",
   "execution_count": null,
   "metadata": {},
   "outputs": [],
   "source": []
  }
 ],
 "metadata": {
  "kernelspec": {
   "display_name": "Python 3",
   "language": "python",
   "name": "python3"
  },
  "language_info": {
   "codemirror_mode": {
    "name": "ipython",
    "version": 3
   },
   "file_extension": ".py",
   "mimetype": "text/x-python",
   "name": "python",
   "nbconvert_exporter": "python",
   "pygments_lexer": "ipython3",
   "version": "3.8.3"
  }
 },
 "nbformat": 4,
 "nbformat_minor": 4
}
